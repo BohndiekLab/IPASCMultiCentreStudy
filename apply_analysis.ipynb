{
 "cells": [
  {
   "cell_type": "markdown",
   "id": "3b672bc9",
   "metadata": {},
   "source": [
    "# Main figure generation and analysis code\n",
    "\n",
    "This code is used to generate the figures and run the analysis for all MSOT figures in the IPASC Multicentre Paper. Before running this script, please make sure to download the data from the repository specified in the README, and update the file paths in the second code block to ensure that this code runs correctly. "
   ]
  },
  {
   "cell_type": "code",
   "execution_count": null,
   "id": "c72a0256-6dea-42f9-9f1f-a2da960ff2f0",
   "metadata": {
    "tags": []
   },
   "outputs": [],
   "source": [
    "import numpy as np\n",
    "import patato as pat\n",
    "import matplotlib.pyplot as plt\n",
    "\n",
    "from utils import remove_tick_labels, add_scalebar, setup_matplotlib\n",
    "from tqdm.auto import tqdm\n",
    "import pandas as pd\n",
    "import matplotlib.transforms as transforms\n",
    "\n",
    "from datetime import datetime\n",
    "from pathlib import Path\n",
    "\n",
    "setup_matplotlib(300)"
   ]
  },
  {
   "cell_type": "code",
   "execution_count": null,
   "id": "25ed6007-0510-4a6a-9bae-106a6e6d1548",
   "metadata": {},
   "outputs": [],
   "source": [
    "#### UPDATE THE DATA PATHS HERE WHEN RUNNING THE CODE. ###\n",
    "\n",
    "data_directory = Path(\"/media/telse/Extreme SSD/Papers/IPASCMultiCentre/Fixed/Data3\")\n",
    "example_file = Path(\"/media/telse/Extreme SSD/Papers/IPASCMultiCentre/Fixed/Data3/Scan_4.hdf5\")\n",
    "\n",
    "if not data_directory.exists() or not example_file.exists():\n",
    "    raise ValueError(\"Data directory and example files do not exist. Please download data from the specified repository and provide the correct path (see README).\")"
   ]
  },
  {
   "cell_type": "code",
   "execution_count": null,
   "id": "e6d70e8a-4be0-458f-97d3-49c5446b7261",
   "metadata": {
    "tags": []
   },
   "outputs": [],
   "source": [
    "masks = np.load(\"intermediate_results/translated_masks.npz\")"
   ]
  },
  {
   "cell_type": "code",
   "execution_count": null,
   "id": "ae2158e9-6cd0-43fd-84c0-cde52fbd4cee",
   "metadata": {
    "tags": []
   },
   "outputs": [],
   "source": [
    "def sort_key(s):\n",
    "    return int(s.stem.split(\"_\")[-1])"
   ]
  },
  {
   "cell_type": "code",
   "execution_count": null,
   "id": "58a732fe-b2e4-45b3-8e4b-19886b2fac75",
   "metadata": {
    "tags": []
   },
   "outputs": [],
   "source": [
    "data_files = sorted(data_directory.glob(\"**/Scan_*.hdf5\"), key=sort_key)\n",
    "spectra = []\n",
    "\n",
    "for file in tqdm(data_files):\n",
    "    pa = pat.PAData.from_hdf5(file)\n",
    "    # print(pa.get_scan_reconstructions().keys())\n",
    "    if \"Clear\" in pa.get_scan_name() or ('Reference Backprojection', '0') not in pa.get_scan_reconstructions(): # pyright: ignore[reportOperatorIssue]\n",
    "        print(file, pa.get_scan_name())\n",
    "        continue\n",
    "    pa.set_default_recon(('Reference Backprojection', '0')) # pyright: ignore[reportArgumentType]\n",
    "    rec1 = pa.get_scan_reconstructions()\n",
    "    \n",
    "    rec_data = np.squeeze(rec1.raw_data) # type: ignore\n",
    "    # rec_data /= pa.get_overall_correction_factor()[:, :, None, None]\n",
    "    mask = masks[str(file)]\n",
    "    for i in range(mask.shape[0]):\n",
    "        m = mask[i] & np.all(rec_data[i] > 0, axis=0)\n",
    "        spectrum = rec_data[i].T[m.T].T\n",
    "        spectra.append({\"PA\": np.median(spectrum, axis=1), \"Wavelength\": pa.get_wavelengths(), \"Scan\": pa.get_scan_name(), \"File\": file})\n"
   ]
  },
  {
   "cell_type": "code",
   "execution_count": null,
   "id": "2f2f05f3-9cb2-4174-b780-4ff3c8c1a6df",
   "metadata": {
    "tags": []
   },
   "outputs": [],
   "source": [
    "df = pd.DataFrame(spectra)"
   ]
  },
  {
   "cell_type": "code",
   "execution_count": null,
   "id": "ed0bcba7-754f-4bda-8061-c5dcf5f2324b",
   "metadata": {
    "tags": []
   },
   "outputs": [],
   "source": [
    "df[\"Operator\"] = df[\"Scan\"].apply(lambda x:\" \".join(x.split(\"_\")[:-1]))\n",
    "df[\"Operator\"] = df[\"Operator\"].apply(lambda x:x.replace(\" Nigrosin\", \"\"))\n",
    "df[\"Replicate\"] = df[\"Scan\"].apply(lambda x:x.split(\"_\")[-1])\n",
    "\n",
    "# display(df[df[\"Operator\"] == \"LW05\"].iloc[0][\"File\"])\n",
    "\n",
    "del df[\"Scan\"]\n",
    "del df[\"File\"]"
   ]
  },
  {
   "cell_type": "code",
   "execution_count": null,
   "id": "27558480-8c33-4457-9cd0-9a05bae4d4a0",
   "metadata": {
    "tags": []
   },
   "outputs": [],
   "source": [
    "df_g = df.groupby([\"Operator\", \"Replicate\"]).mean().reset_index()\n",
    "df_g.tail()"
   ]
  },
  {
   "cell_type": "code",
   "execution_count": null,
   "id": "43021a4b",
   "metadata": {},
   "outputs": [
    {
     "data": {
      "text/plain": [
       "'20250919'"
      ]
     },
     "execution_count": 1,
     "metadata": {},
     "output_type": "execute_result"
    }
   ],
   "source": [
    "date = datetime.now().strftime(\"%Y%m%d\")"
   ]
  },
  {
   "cell_type": "code",
   "execution_count": null,
   "id": "7be7f418-e906-4b11-8ebc-6e671b273b8e",
   "metadata": {},
   "outputs": [],
   "source": [
    "df_g[\"Operator\"] = df_g[\"Operator\"].apply(lambda x: x.split()[0])\n",
    "df_long = df_g.explode([\"PA\", \"Wavelength\"])\n",
    "df_long.to_excel(f\"intermediate_results/{date}_ipasc_multicentre_ipasc.xlsx\")"
   ]
  },
  {
   "cell_type": "markdown",
   "id": "210e9084-8299-4a58-a392-60d095ebc9a8",
   "metadata": {},
   "source": [
    "## Separate out the LPM/HPM"
   ]
  },
  {
   "cell_type": "code",
   "execution_count": null,
   "id": "f3929bd0-11b1-47e1-977f-2743cebf1cba",
   "metadata": {},
   "outputs": [],
   "source": [
    "df_details = pd.read_excel(\"scandetails.ods\")[[\"Reference\", \"Recipe\"]]"
   ]
  },
  {
   "cell_type": "code",
   "execution_count": null,
   "id": "2798187e-22cd-430d-b653-204c318107cd",
   "metadata": {},
   "outputs": [],
   "source": [
    "df_recipe = df_g.merge(df_details, left_on=\"Operator\", right_on=\"Reference\")"
   ]
  },
  {
   "cell_type": "code",
   "execution_count": null,
   "id": "e865d1a5-9d44-47f1-aaeb-dfe236e3ce30",
   "metadata": {},
   "outputs": [],
   "source": [
    "df_summarised = df_recipe.groupby(\"Operator\").agg({\"Recipe\": \"first\", \n",
    "                                                   \"PA\": lambda x: {\"Mean\": np.mean(np.stack(x), axis=0), \n",
    "                                                                    \"Std\": np.std(np.stack(x), axis=0)}, \n",
    "                                                   \"Wavelength\": \"first\"})\n",
    "df_summarised = df_summarised.drop(index=\"LW21\")\n",
    "df_summarised = df_summarised.drop(index=\"LW04\")\n",
    "df_summarised = pd.concat([df_summarised, df_summarised[\"PA\"].apply(pd.Series)], axis=1)\n",
    "del df_summarised[\"PA\"]\n",
    "df_summarised[\"PA\"] = df_summarised[\"Mean\"]\n",
    "df_summarised[\"PA Std\"] = df_summarised[\"Std\"]\n",
    "del df_summarised[\"Mean\"]\n",
    "del df_summarised[\"Std\"]\n",
    "df_summarised[\"CoV\"] = df_summarised[\"PA Std\"] / df_summarised[\"PA\"]\n",
    "df_summarised.head()"
   ]
  },
  {
   "cell_type": "code",
   "execution_count": null,
   "id": "491b66ee-be8c-4eb0-90c5-724b4e6963a9",
   "metadata": {},
   "outputs": [],
   "source": [
    "fig, ax = plt.subplots(figsize=(3, 2))\n",
    "\n",
    "for recipe, rec_grp in df_summarised.groupby(\"Recipe\"):\n",
    "    wls = rec_grp[\"Wavelength\"].iloc[0]\n",
    "    spectra = np.stack(rec_grp[\"PA\"]) # type: ignore\n",
    "    mean_spec = np.mean(spectra, axis=0)\n",
    "    se_spec = np.std(spectra, axis=0) / np.sqrt(spectra.shape[0])\n",
    "    \n",
    "    ax.plot(wls, mean_spec, label=recipe)\n",
    "    ax.fill_between(wls, mean_spec-se_spec, mean_spec + se_spec, alpha=0.3)\n",
    "ax.set_xlabel(\"Wavelength (nm)\")"
   ]
  },
  {
   "cell_type": "markdown",
   "id": "ee58b3c5-d97a-4d8c-9df9-4296b25ebd6b",
   "metadata": {},
   "source": [
    "## Plot the individual spectra"
   ]
  },
  {
   "cell_type": "code",
   "execution_count": null,
   "id": "d5a9659d-2362-418b-8fad-a3dae740b2fd",
   "metadata": {},
   "outputs": [],
   "source": [
    "fig, ax = plt.subplots(figsize=(3, 2))\n",
    "\n",
    "wls = df_summarised[\"Wavelength\"].iloc[0]\n",
    "spectra = np.stack(df_summarised[\"PA\"]) # type: ignore\n",
    "mean_spec = np.mean(spectra, axis=0)\n",
    "se_spec = np.std(spectra, axis=0) / np.sqrt(spectra.shape[0])\n",
    "\n",
    "plt.plot(wls, mean_spec, label=\"Mean\", c=\"C2\")\n",
    "plt.fill_between(wls, mean_spec - se_spec, mean_spec + se_spec, alpha=0.1, label=\"SE\", facecolor=\"C2\")\n",
    "\n",
    "for operator, rec_grp in df_summarised.iterrows():\n",
    "    wls = rec_grp[\"Wavelength\"]\n",
    "    ax.plot(wls, rec_grp[\"PA\"], alpha=0.1, c=\"k\")\n",
    "ax.set_xlabel(\"Wavelength (nm)\")\n",
    "ax.set_ylabel(\"PA signal (a.u.)\")\n",
    "ax.legend()\n",
    "# ax.set_ylim([0, None])\n",
    "fig.savefig(\"figures/AllSpectra_Batch3.png\", dpi=300)\n",
    "plt.show()"
   ]
  },
  {
   "cell_type": "code",
   "execution_count": null,
   "id": "5de5262a-3af6-4c64-b4ea-6fed821a47f9",
   "metadata": {},
   "outputs": [],
   "source": [
    "fig, ax = plt.subplots(figsize=(3, 2))\n",
    "\n",
    "for recipe, rec_grp in df_summarised.groupby(\"Recipe\"):\n",
    "    wls = rec_grp[\"Wavelength\"].iloc[0]\n",
    "    spectra = np.stack(rec_grp[\"CoV\"]) # type: ignore\n",
    "    mean_spec = np.mean(spectra, axis=0)\n",
    "    se_spec = np.std(spectra, axis=0) / np.sqrt(spectra.shape[0])\n",
    "    \n",
    "    ax.plot(wls, mean_spec, label=recipe)\n",
    "    ax.fill_between(wls, mean_spec-se_spec, mean_spec + se_spec, alpha=0.3)\n",
    "ax.set_xlabel(\"Wavelength (nm)\")\n",
    "ax.set_ylabel(\"Coefficient of Variation\")\n",
    "ax.legend()\n",
    "# ax.set_ylim([0, None])\n",
    "fig.savefig(\"figures/covLPMvsHPM_Batch3.png\", dpi=300)\n",
    "plt.show()"
   ]
  },
  {
   "cell_type": "code",
   "execution_count": null,
   "id": "1d2072fd",
   "metadata": {},
   "outputs": [],
   "source": [
    "fig, ax = plt.subplots(figsize=(3, 2))\n",
    "\n",
    "wls = df_summarised[\"Wavelength\"].iloc[0]\n",
    "spectra = np.stack(df_summarised[\"CoV\"]) # type: ignore\n",
    "mean_spec = np.mean(spectra, axis=0)\n",
    "se_spec = np.std(spectra, axis=0) / np.sqrt(spectra.shape[0])\n",
    "\n",
    "plt.plot(wls, mean_spec, label=\"Mean\", c=\"C2\")\n",
    "plt.fill_between(wls, mean_spec - se_spec, mean_spec + se_spec, alpha=0.1, label=\"SE\", facecolor=\"C2\")\n",
    "\n",
    "for operator, rec_grp in df_summarised.iterrows():\n",
    "    wls = rec_grp[\"Wavelength\"]\n",
    "    ax.plot(wls, rec_grp[\"CoV\"], alpha=0.1, c=\"k\")\n",
    "ax.set_xlabel(\"Wavelength (nm)\")\n",
    "ax.set_ylabel(\"Coefficient of Variation\")\n",
    "ax.legend()\n",
    "# ax.set_ylim([0, None])\n",
    "fig.savefig(\"figures/AllCoVSpectra_Batch3.png\", dpi=300)\n",
    "plt.show()"
   ]
  },
  {
   "cell_type": "code",
   "execution_count": null,
   "id": "d49971f7",
   "metadata": {},
   "outputs": [],
   "source": [
    "df_summarised[\"CoV\"].apply(lambda x: x[0]).argsort()"
   ]
  },
  {
   "cell_type": "code",
   "execution_count": null,
   "id": "945311b9",
   "metadata": {},
   "outputs": [],
   "source": [
    "df_summarised.iloc[1]"
   ]
  },
  {
   "cell_type": "code",
   "execution_count": null,
   "id": "47a641b6",
   "metadata": {},
   "outputs": [],
   "source": [
    "pa = pat.PAData.from_hdf5(example_file) # type: ignore"
   ]
  },
  {
   "cell_type": "code",
   "execution_count": null,
   "id": "0954a91d",
   "metadata": {},
   "outputs": [],
   "source": [
    "fig = plt.figure(figsize=(6.27, 1.5*10.5/10))\n",
    "\n",
    "subfigs = fig.subfigures(2, 3, width_ratios=[1, 1, 1.5], height_ratios=[0.5,10])\n",
    "ax3, ax2, ax1 = [s.subplots() for s in subfigs[1]]\n",
    "\n",
    "ax3.axis(\"off\")\n",
    "\n",
    "for recipe, rec_grp in df_summarised.groupby(\"Recipe\"):\n",
    "    print(recipe, rec_grp.shape[0], 100*rec_grp[\"CoV\"].apply(\"mean\").mean(), 100*rec_grp[\"CoV\"].apply(\"mean\").std()/np.sqrt(6)) # type: ignore\n",
    "    wls = rec_grp[\"Wavelength\"].iloc[0]\n",
    "    spectra = np.stack(rec_grp[\"PA\"]) # type: ignore\n",
    "    mean_spec = np.mean(spectra, axis=0)\n",
    "    se_spec = np.std(spectra, axis=0) / np.sqrt(spectra.shape[0])\n",
    "    \n",
    "    ax1.plot(wls, mean_spec, label=recipe)\n",
    "    ax1.fill_between(wls, mean_spec-se_spec, mean_spec + se_spec, alpha=0.3)\n",
    "ax1.set_xlabel(\"Wavelength (nm)\")\n",
    "ax1.legend()\n",
    "\n",
    "pa.set_default_recon()\n",
    "rec = pa.get_scan_reconstructions()\n",
    "print(pa.get_wavelengths()[0])\n",
    "im = rec.imshow(ax=ax2, scalebar=False) # type: ignore\n",
    "ax2.axis(\"on\")\n",
    "add_scalebar(0.01, ax=ax2)\n",
    "remove_tick_labels(np.array([ax2]))\n",
    "\n",
    "trans = transforms.blended_transform_factory(subfigs[0, 0].transSubfigure, fig.transFigure)\n",
    "fig.text(0, 1, \"A\", transform=trans, fontweight=\"bold\", ha=\"left\", va=\"top\", fontsize=\"large\")\n",
    "\n",
    "trans = transforms.blended_transform_factory(subfigs[0, 1].transSubfigure, fig.transFigure)\n",
    "fig.text(0, 1, \"B\", transform=trans, fontweight=\"bold\", ha=\"left\", va=\"top\", fontsize=\"large\")\n",
    "\n",
    "trans = transforms.blended_transform_factory(subfigs[0, 2].transSubfigure, fig.transFigure)\n",
    "fig.text(0, 1, \"C\", transform=trans, fontweight=\"bold\", ha=\"left\", va=\"top\", fontsize=\"large\")\n",
    "\n",
    "ax1.set_ylabel(\"PA intensity (a.u.)\")\n",
    "plt.colorbar(im, ax=ax2) # type: ignore\n",
    "plt.savefig(\"figures/example_image.png\", dpi=300)\n",
    "plt.savefig(\"figures/example_image.svg\", dpi=300)\n",
    "plt.show()"
   ]
  }
 ],
 "metadata": {
  "kernelspec": {
   "display_name": "ipascmulticentre",
   "language": "python",
   "name": "python3"
  },
  "language_info": {
   "codemirror_mode": {
    "name": "ipython",
    "version": 3
   },
   "file_extension": ".py",
   "mimetype": "text/x-python",
   "name": "python",
   "nbconvert_exporter": "python",
   "pygments_lexer": "ipython3",
   "version": "3.12.3"
  }
 },
 "nbformat": 4,
 "nbformat_minor": 5
}
