{
 "cells": [
  {
   "cell_type": "markdown",
   "id": "f446bad8",
   "metadata": {},
   "source": [
    "# Image registration\n",
    "\n",
    "To create masks for each phantom, we co-registered the images of each phantom with a template circular mask. \n",
    "\n",
    "Make sure to download the data in advance and update the path in the second code block."
   ]
  },
  {
   "cell_type": "code",
   "execution_count": null,
   "id": "d7761c75-7925-4a1f-a54a-de22430955c3",
   "metadata": {
    "tags": []
   },
   "outputs": [],
   "source": [
    "import patato as pat\n",
    "import numpy as np\n",
    "import matplotlib.pyplot as plt\n",
    "from registering import coregister\n",
    "import SimpleITK as sitk\n",
    "\n",
    "from pathlib import Path\n",
    "\n",
    "from scipy.ndimage import median_filter"
   ]
  },
  {
   "cell_type": "code",
   "execution_count": null,
   "id": "9ac4d567",
   "metadata": {},
   "outputs": [],
   "source": [
    "root_path = Path(\"/media/telse/Extreme SSD/Papers/IPASCMultiCentre/Fixed\")"
   ]
  },
  {
   "cell_type": "code",
   "execution_count": null,
   "id": "2fd97c09-74a8-46bd-9e54-746094601f5d",
   "metadata": {
    "tags": []
   },
   "outputs": [],
   "source": [
    "def rgb_visualise(image_a, image_b):\n",
    "    pa_image = np.stack([image_a, image_b, image_b], axis=2)\n",
    "    pa_image -= np.min(pa_image)\n",
    "    pa_image /= np.max(pa_image)\n",
    "    return pa_image"
   ]
  },
  {
   "cell_type": "code",
   "execution_count": null,
   "id": "5f5c835c-dac0-4b9f-abdf-eb9d14078058",
   "metadata": {
    "tags": []
   },
   "outputs": [],
   "source": [
    "def sort_key(s):\n",
    "    return int(s.split(\"_\")[-1].split(\".\")[0])\n",
    "\n",
    "def apply_transformation(resampler, mask):\n",
    "    new_mask = sitk.GetArrayFromImage(resampler.Execute(sitk.GetImageFromArray(np.squeeze(mask).astype(np.double))))>0.5\n",
    "    return new_mask"
   ]
  },
  {
   "cell_type": "code",
   "execution_count": null,
   "id": "2a13fc55-9385-47dd-8e1d-474a3cca965a",
   "metadata": {},
   "outputs": [],
   "source": [
    "files = root_path.glob(\"**/*.hdf5\")\n",
    "template_file = root_path / \"Data/Scan_2.hdf5\""
   ]
  },
  {
   "cell_type": "code",
   "execution_count": null,
   "id": "0a832fdb-ba25-44c7-9436-328ee9737e2f",
   "metadata": {
    "tags": []
   },
   "outputs": [],
   "source": [
    "file_masks = {}\n",
    "\n",
    "data_files = files\n",
    "template_file = template_file\n",
    "\n",
    "wavelength_to_register_on = -4\n",
    "\n",
    "template_pa = pat.PAData.from_hdf5(template_file) # type: ignore\n",
    "template_pa.set_default_recon((\"Reference Backprojection\", \"0\")) # type: ignore\n",
    "print(template_pa.get_scan_name())\n",
    "template_reconstruction = np.squeeze(template_pa.get_scan_reconstructions().raw_data[0, wavelength_to_register_on]) # type: ignore\n",
    "template_reconstruction = median_filter(template_reconstruction, 5)\n",
    "template_reconstruction -= np.min(template_reconstruction)\n",
    "template_reconstruction /= np.max(template_reconstruction)\n",
    "\n",
    "phantom_roi = template_pa.get_rois()[('phantom_', '0')]\n",
    "points = phantom_roi.points\n",
    "\n",
    "xpoints, ypoints = points.T\n",
    "(x,), (y,) = phantom_roi.get_polygon().centroid.xy\n",
    "\n",
    "r = 0.015\n",
    "\n",
    "rec = template_pa.get_scan_reconstructions()\n",
    "x0, x1, y0, y1 = rec.extent # type: ignore\n",
    "\n",
    "\n",
    "mask = (np.linspace(x0, x1, rec.shape[2])[None, :] - x) ** 2 + (np.linspace(y0, y1, rec.shape[4])[:, None] - y) ** 2 < r ** 2 # type: ignore\n",
    "\n",
    "for file in data_files:\n",
    "    pa_moving = pat.PAData.from_hdf5(file) # type: ignore\n",
    "    if \"Clear\" in pa_moving.get_scan_name() or (\"Reference Backprojection\", \"0\") not in pa_moving.get_scan_reconstructions(): # type: ignore\n",
    "        print(file, pa_moving.get_scan_name())\n",
    "        continue\n",
    "    pa_moving.set_default_recon((\"Reference Backprojection\", \"0\")) # type: ignore\n",
    "    rec1 = pa_moving.get_scan_reconstructions()\n",
    "        \n",
    "    pa_image1 = np.squeeze(rec1.raw_data[rec1.shape[0]//2, wavelength_to_register_on]) # type: ignore\n",
    "    pa_image1 = median_filter(pa_image1, 5)\n",
    "    pa_image1 -= np.min(pa_image1)\n",
    "    pa_image1 /= np.max(pa_image1)\n",
    "    _, output, resampler = coregister(pa_image1, template_reconstruction, metric=\"lstsq\", verbose=0)\n",
    "    \n",
    "    masks = []\n",
    "    new_mask = apply_transformation(resampler, mask)\n",
    "    # masks.append(new_mask)\n",
    "    \n",
    "    # Now coregister each image in stack to the first one.\n",
    "    for i in range(0, rec1.raw_data.shape[0]): # type: ignore\n",
    "        pa_image2 = np.squeeze(rec1.raw_data[i, wavelength_to_register_on]) # type: ignore\n",
    "        pa_image2 = median_filter(pa_image2, 5)\n",
    "        pa_image2 -= np.min(pa_image2)\n",
    "        pa_image2 /= np.max(pa_image2)\n",
    "        _, _, resampler2 = coregister(pa_image2, pa_image1, metric=\"lstsq\", verbose=0)\n",
    "        masks.append(apply_transformation(resampler2, new_mask))\n",
    "    \n",
    "    # print(masks[-1].shape, len(masks))\n",
    "    file_masks[file] = masks\n",
    "    \n",
    "    fig, (ax1, ax2) = plt.subplots(1, 2)\n",
    "    pa_image = rgb_visualise(pa_image1, template_reconstruction)\n",
    "    ax1.imshow(pa_image, extent=rec1.extent, origin=\"lower\") # type: ignore\n",
    "    ax1.set_title(\"Not registered\")\n",
    "    ax1.axis(\"off\")\n",
    "    pa_image = rgb_visualise(pa_image1, output)\n",
    "    ax2.imshow(pa_image1, extent=rec1.extent, origin=\"lower\", cmap=\"gray\") # type: ignore\n",
    "    ax2.contour(new_mask, extent=rec1.extent, origin=\"lower\", colors=\"red\") # type: ignore\n",
    "    ax2.set_title(\"Registered\")\n",
    "    ax2.axis(\"off\")\n",
    "    fig.suptitle(pa_moving.get_scan_name() + \": \" + file.parent.stem + \"/\" + file.stem)\n",
    "    plt.tight_layout()\n",
    "    plt.show()\n"
   ]
  },
  {
   "cell_type": "code",
   "execution_count": null,
   "id": "1ef3b156-e1fd-4db9-8ffd-7ad1333ca2b9",
   "metadata": {
    "tags": []
   },
   "outputs": [],
   "source": [
    "r"
   ]
  },
  {
   "cell_type": "code",
   "execution_count": null,
   "id": "6f495e30-5b5a-4edb-98f6-ca4526fb80b2",
   "metadata": {
    "tags": []
   },
   "outputs": [],
   "source": [
    "file_masks = dict([(str(k), v) for k, v in file_masks.items()])"
   ]
  },
  {
   "cell_type": "code",
   "execution_count": null,
   "id": "1445cc64-a563-474b-9f15-07c2f1a30769",
   "metadata": {
    "tags": []
   },
   "outputs": [],
   "source": [
    "np.savez_compressed(\"intermediate_results/translated_masks.npz\", **file_masks)"
   ]
  }
 ],
 "metadata": {
  "kernelspec": {
   "display_name": "ipascmulticentre",
   "language": "python",
   "name": "python3"
  },
  "language_info": {
   "codemirror_mode": {
    "name": "ipython",
    "version": 3
   },
   "file_extension": ".py",
   "mimetype": "text/x-python",
   "name": "python",
   "nbconvert_exporter": "python",
   "pygments_lexer": "ipython3",
   "version": "3.12.3"
  }
 },
 "nbformat": 4,
 "nbformat_minor": 5
}
